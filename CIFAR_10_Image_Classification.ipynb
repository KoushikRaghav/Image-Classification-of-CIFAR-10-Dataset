{
  "nbformat": 4,
  "nbformat_minor": 0,
  "metadata": {
    "colab": {
      "name": "CIFAR-10 Image Classification.ipynb",
      "provenance": [],
      "collapsed_sections": []
    },
    "kernelspec": {
      "name": "python3",
      "display_name": "Python 3"
    },
    "accelerator": "TPU"
  },
  "cells": [
    {
      "cell_type": "markdown",
      "metadata": {
        "id": "13dgBw5HUmF5"
      },
      "source": [
        "# The CIFAR-10 Image Classification\r\n",
        "---\r\n",
        "\r\n",
        "\r\n",
        "The CIFAR-10 dataset consists of 60000 32x32 colour images in 10 classes, with 6000 images per class. There are 50000 training images and 10000 test images.\r\n",
        "\r\n",
        "The dataset is divided into five training batches and one test batch, each with 10000 images. The test batch contains exactly 1000 randomly-selected images from each class. The training batches contain the remaining images in random order, but some training batches may contain more images from one class than another. Between them, the training batches contain exactly 5000 images from each class."
      ]
    },
    {
      "cell_type": "code",
      "metadata": {
        "id": "SQF4oJ7bLkVF"
      },
      "source": [
        "!pip install tensorflow-gpu==2.0.0-rc0"
      ],
      "execution_count": null,
      "outputs": []
    },
    {
      "cell_type": "code",
      "metadata": {
        "id": "xouiUwA1NkX9"
      },
      "source": [
        "!pip install mlxtend==0.17.0"
      ],
      "execution_count": null,
      "outputs": []
    },
    {
      "cell_type": "code",
      "metadata": {
        "id": "UzLvqEp4NqfI"
      },
      "source": [
        "import matplotlib\r\n",
        "import numpy as np\r\n",
        "import tensorflow as tf\r\n",
        "import matplotlib.pyplot as plt\r\n",
        "from tensorflow.keras import Sequential\r\n",
        "from tensorflow.keras.datasets import cifar10\r\n",
        "from tensorflow.keras.layers import Flatten, Dense, Conv2D, MaxPool2D, Dropout"
      ],
      "execution_count": 2,
      "outputs": []
    },
    {
      "cell_type": "code",
      "metadata": {
        "id": "uzqYaUefOI_v"
      },
      "source": [
        "# Load Image Data from cifar 10 dataset\r\n",
        "(xTrain, yTrain), (xTest, yTest) = cifar10.load_data()"
      ],
      "execution_count": 3,
      "outputs": []
    },
    {
      "cell_type": "code",
      "metadata": {
        "id": "Q9ZyKK21SQPH"
      },
      "source": [
        "xTrain = xTrain / 255\r\n",
        "yTrain = yTrain / 255"
      ],
      "execution_count": 4,
      "outputs": []
    },
    {
      "cell_type": "code",
      "metadata": {
        "id": "iPNWtc-7TBhH"
      },
      "source": [
        "classes = [\"airplane\", \"automobile\", \"bird\", \"cat\", \"deer\", \"dog\", \"frog\", \"horse\", \"ship\", \"truck\"]"
      ],
      "execution_count": 5,
      "outputs": []
    },
    {
      "cell_type": "markdown",
      "metadata": {
        "id": "Y3kqCVsPVAbW"
      },
      "source": [
        "## Build CNN Model"
      ]
    },
    {
      "cell_type": "code",
      "metadata": {
        "id": "xsW6G04BVHKF"
      },
      "source": [
        "model = Sequential()\r\n",
        "print(xTest)\r\n",
        "# 1st Layer\r\n",
        "model.add(Conv2D(filters=32, kernel_size=(3, 3), padding='same', activation='relu', input_shape = [32, 32, 3] ))\r\n",
        "\r\n",
        "# 2nd Layer\r\n",
        "model.add(Conv2D(filters=32, kernel_size=(3, 3), padding='same', activation='relu'))\r\n",
        "\r\n",
        "# Max Pooling\r\n",
        "model.add(MaxPool2D(pool_size=(2, 2), strides=2, padding='valid'))\r\n",
        "\r\n",
        "# Dropout\r\n",
        "model.add(Dropout(0.5))\r\n",
        "\r\n",
        "# Flattening Layer\r\n",
        "model.add(Flatten())\r\n",
        "\r\n",
        "# Dense Layer1\r\n",
        "model.add(Dense(units=128, activation='relu'))\r\n",
        "\r\n",
        "# Output Layer\r\n",
        "model.add(Dense(units=10, activation='softmax'))\r\n",
        "\r\n",
        "model.summary()\r\n"
      ],
      "execution_count": null,
      "outputs": []
    },
    {
      "cell_type": "code",
      "metadata": {
        "id": "nCYAuBLTaM99"
      },
      "source": [
        "model.compile(optimizer='adam', loss='sparse_categorical_crossentropy', metrics=['sparse_categorical_accuracy'])"
      ],
      "execution_count": 7,
      "outputs": []
    },
    {
      "cell_type": "code",
      "metadata": {
        "id": "y6wCYxGzb1Pi"
      },
      "source": [
        "history = model.fit(xTrain, yTrain, batch_size=10, epochs=10, verbose=1, validation_data=(xTest, yTest))"
      ],
      "execution_count": null,
      "outputs": []
    },
    {
      "cell_type": "markdown",
      "metadata": {
        "id": "3H-XdqFFtO8S"
      },
      "source": [
        "#### Plot Training and Validation accuracy values"
      ]
    },
    {
      "cell_type": "code",
      "metadata": {
        "id": "cRpgKnCmtK7V"
      },
      "source": [
        "epochRange = range(1, 11)\r\n",
        "plt.plot(epochRange, history.history['sparse_categorical_accuracy'])\r\n",
        "plt.plot(epochRange, history.history['val_sparse_categorical_accuracy'])\r\n",
        "plt.title('Model Accuracy')\r\n",
        "plt.ylabel('Accuracy')\r\n",
        "plt.xlabel('Epoch')\r\n",
        "plt.legend(['Train', 'Val'], loc='upper left')\r\n",
        "plt.show()"
      ],
      "execution_count": null,
      "outputs": []
    },
    {
      "cell_type": "markdown",
      "metadata": {
        "id": "GsjjHEvM4EIw"
      },
      "source": [
        "#### Plot Training and Validation loss values"
      ]
    },
    {
      "cell_type": "code",
      "metadata": {
        "id": "klqbNMVT4GOX"
      },
      "source": [
        "plt.plot(epochRange, history.history['loss'])\r\n",
        "plt.plot(epochRange, history.history['val_loss'])\r\n",
        "plt.title('Model Loss')\r\n",
        "plt.ylabel('Loss')\r\n",
        "plt.xlabel('Epoch')\r\n",
        "plt.legend(['Train', 'Val'], loc='upper left')\r\n",
        "plt.show()"
      ],
      "execution_count": null,
      "outputs": []
    },
    {
      "cell_type": "code",
      "metadata": {
        "id": "MiJ3fHtW5qOG"
      },
      "source": [
        "from mlxtend.plotting import plot_confusion_matrix\r\n",
        "from sklearn.metrics import confusion_matrix\r\n",
        "\r\n",
        "yPred = model.predict_classes(xTest)"
      ],
      "execution_count": null,
      "outputs": []
    },
    {
      "cell_type": "code",
      "metadata": {
        "id": "3WbS1VDh6Onj"
      },
      "source": [
        "confusionMatrix = confusion_matrix(yTest, yPred)"
      ],
      "execution_count": null,
      "outputs": []
    },
    {
      "cell_type": "code",
      "metadata": {
        "id": "2qi9AhKy6cB1"
      },
      "source": [
        "plot_confusion_matrix(confusionMatrix, figsize=(12, 12), class_names=classes, show_normed=True)"
      ],
      "execution_count": null,
      "outputs": []
    }
  ]
}